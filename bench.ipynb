{
 "cells": [
  {
   "cell_type": "code",
   "execution_count": 1,
   "metadata": {},
   "outputs": [],
   "source": [
    "import yaml\n",
    "import argparse\n",
    "import itertools\n",
    "from collections import defaultdict\n",
    "from pathlib import Path\n",
    "import multiprocessing\n",
    "from multiprocessing import Pool, cpu_count\n",
    "import concurrent.futures\n",
    "from typing import Dict, List\n",
    "from src.runner import Runner\n",
    "import yaml\n",
    "import argparse\n",
    "import itertools\n",
    "from collections import defaultdict\n",
    "from pathlib import Path\n",
    "import multiprocessing\n",
    "from multiprocessing import Pool, cpu_count\n",
    "import concurrent.futures\n",
    "from typing import Dict, List\n",
    "from src.runner import Runner\n",
    "import os\n",
    "from src.plotCurves import EvalCurves\n",
    "\n",
    "class InputSettings(object):\n",
    "    def __init__(self,\n",
    "            datadir, datasets, algorithms) -> None:\n",
    "        \n",
    "        self.datadir = datadir\n",
    "        self.datasets = datasets\n",
    "        self.algorithms = algorithms\n",
    "\n",
    "\n",
    "class OutputSettings(object):\n",
    "    '''\n",
    "    Structure for storing the names of directories that output should\n",
    "    be written to\n",
    "    '''\n",
    "\n",
    "    def __init__(self, base_dir: Path) -> None:\n",
    "        self.base_dir = base_dir\n",
    "\n",
    "        \n",
    "class Evaluation(object):\n",
    "    '''\n",
    "    The Evaluation object is created by parsing a user-provided configuration\n",
    "    file. Its methods provide for further processing its inputs into\n",
    "    a series of jobs to be run, as well as running these jobs.\n",
    "    '''\n",
    "\n",
    "    def __init__(self,\n",
    "            input_settings: InputSettings,\n",
    "            output_settings: OutputSettings) -> None:\n",
    "\n",
    "        self.input_settings = input_settings\n",
    "        self.output_settings = output_settings\n",
    "        self.runners: Dict[int, Runner] = self.__create_runners()\n",
    "\n",
    "\n",
    "    def __create_runners(self) -> Dict[int, List[Runner]]:\n",
    "        '''\n",
    "        Instantiate the set of runners based on parameters provided via the\n",
    "        configuration file. Each runner is supplied an interactome, collection,\n",
    "        the set of algorithms to be run, and graphspace credentials, in\n",
    "        addition to the custom parameters each runner may or may not define.\n",
    "        '''\n",
    "        \n",
    "        runners: Dict[int, Runner] = defaultdict(list)\n",
    "        order = 0\n",
    "        for dataset in self.input_settings.datasets:\n",
    "            for runner in self.input_settings.algorithms:\n",
    "                data = {}\n",
    "                data['name'] = runner[0]\n",
    "                data['params'] = runner[1]\n",
    "                data['inputDir'] = Path.cwd().joinpath(self.input_settings.datadir.joinpath(dataset['name']))\n",
    "                print(data['inputDir'])\n",
    "                runners[order] = Runner(data)\n",
    "                order += 1            \n",
    "        return runners\n",
    "\n",
    "\n",
    "    def execute_runners(self, parallel=False, num_threads=1):\n",
    "        '''\n",
    "        Run each of the algorithms\n",
    "        '''\n",
    "\n",
    "        base_output_dir = self.output_settings.base_dir\n",
    "\n",
    "        batches =  self.runners.keys()\n",
    "\n",
    "        for batch in batches:\n",
    "            if parallel==True:\n",
    "                executor = concurrent.futures.ThreadPoolExecutor(max_workers=1)\n",
    "                futures = [executor.submit(runner.run, base_output_dir)\n",
    "                    for runner in self.runners[batch]]\n",
    "                \n",
    "                # https://stackoverflow.com/questions/35711160/detect-failed-tasks-in-concurrent-futures\n",
    "                # Re-raise exception if produced\n",
    "                for future in concurrent.futures.as_completed(futures):\n",
    "                    future.result()\n",
    "                executor.shutdown(wait=True)\n",
    "            else:\n",
    "                for runner in self.runners[batch]:\n",
    "                    runner.run(output_dir=base_output_dir)\n",
    "                    \n",
    "            \n",
    "    def evaluate_runners(self):\n",
    "        '''\n",
    "        Plot PR and ROC curves for each dataset\n",
    "        for all the algorithms\n",
    "        '''\n",
    "        for dataset in self.input_settings.datasets:              \n",
    "            EvalCurves(dataset, self.input_settings)\n",
    "                \n",
    "                \n",
    "class ConfigParser(object):\n",
    "    '''\n",
    "    Define static methods for parsing a config file that sets a large number\n",
    "    of parameters for the pipeline\n",
    "    '''\n",
    "    @staticmethod\n",
    "    def parse(config_file_handle) -> Evaluation:\n",
    "        config_map = yaml.load(config_file_handle)\n",
    "        return Evaluation(\n",
    "            ConfigParser.__parse_input_settings(\n",
    "                config_map['input_settings']),\n",
    "            ConfigParser.__parse_output_settings(\n",
    "                config_map['output_settings']))\n",
    "\n",
    "    @staticmethod\n",
    "    def __parse_input_settings(input_settings_map) -> InputSettings:\n",
    "        input_dir = input_settings_map['input_dir']\n",
    "        dataset_dir = input_settings_map['dataset_dir']\n",
    "        datasets = input_settings_map['datasets']\n",
    "\n",
    "        return InputSettings(\n",
    "                Path(input_dir, dataset_dir),\n",
    "                datasets,\n",
    "                ConfigParser.__parse_algorithms(\n",
    "                input_settings_map['algorithms']))\n",
    "\n",
    "\n",
    "    @staticmethod\n",
    "    def __parse_algorithms(algorithms_list):\n",
    "        algorithms = []\n",
    "        for algorithm in algorithms_list:\n",
    "                combos = [dict(zip(algorithm['params'], val))\n",
    "                    for val in itertools.product(\n",
    "                        *(algorithm['params'][param]\n",
    "                            for param in algorithm['params']))]\n",
    "                for combo in combos:\n",
    "                    algorithms.append([algorithm['name'],combo])\n",
    "            \n",
    "\n",
    "        return algorithms\n",
    "\n",
    "    @staticmethod\n",
    "    def __parse_output_settings(output_settings_map):\n",
    "        output_dir = Path(output_settings_map['output_dir'])\n",
    "        return OutputSettings(output_dir)\n",
    "\n",
    "def get_parser() -> argparse.ArgumentParser:\n",
    "    '''\n",
    "    :return: an argparse ArgumentParser object for parsing command\n",
    "        line parameters\n",
    "    '''\n",
    "    parser = argparse.ArgumentParser(\n",
    "        description='Run pathway reconstruction pipeline.')\n",
    "\n",
    "    parser.add_argument('--config', default='config.yaml',\n",
    "        help='Configuration file')\n",
    "\n",
    "    return parser\n",
    "\n",
    "def parse_arguments():\n",
    "    '''\n",
    "    Initialize a parser and use it to parse the command line arguments\n",
    "    :return: parsed dictionary of command line arguments\n",
    "    '''\n",
    "    parser = get_parser()\n",
    "    opts = parser.parse_args()\n",
    "\n",
    "    return opts"
   ]
  },
  {
   "cell_type": "code",
   "execution_count": 2,
   "metadata": {},
   "outputs": [
    {
     "name": "stdout",
     "output_type": "stream",
     "text": [
      "/home/adyprat/ModelEval/inputs/simulated/dataset1\n",
      "/home/adyprat/ModelEval/inputs/simulated/dataset1\n",
      "/home/adyprat/ModelEval/inputs/simulated/dataset1\n",
      "<__main__.Evaluation object at 0x7f473c6b73c8>\n",
      "Evaluation started\n",
      "Evaluation complete\n"
     ]
    }
   ],
   "source": [
    "with open(\"config.yaml\", 'r') as conf:\n",
    "    evaluation = ConfigParser.parse(conf)\n",
    "print(evaluation)\n",
    "print('Evaluation started')\n",
    "\n",
    "# Do something\n",
    "\n",
    "print('Evaluation complete')"
   ]
  },
  {
   "cell_type": "code",
   "execution_count": 3,
   "metadata": {},
   "outputs": [
    {
     "data": {
      "text/plain": [
       "[{'name': 'dataset1',\n",
       "  'ex_filename': 'ExpressionData.csv',\n",
       "  'pt_filename': 'PseudoTime.csv',\n",
       "  'trueEdges': 'reference_TFTF_network.txt'}]"
      ]
     },
     "execution_count": 3,
     "metadata": {},
     "output_type": "execute_result"
    }
   ],
   "source": [
    "evaluation.input_settings.datasets"
   ]
  },
  {
   "cell_type": "code",
   "execution_count": 4,
   "metadata": {},
   "outputs": [
    {
     "name": "stdout",
     "output_type": "stream",
     "text": [
      "['SCODE', {'should_run': True, 'nGenes': 100, 'z': 4, 'nCells': 356, 'nIter': 100, 'nRep': 2}]\n",
      "['SCNS', {'should_run': False}]\n",
      "['SINCERITIES', {'should_run': True}]\n"
     ]
    }
   ],
   "source": [
    "for alg in evaluation.input_settings.algorithms:\n",
    "    print(alg)"
   ]
  },
  {
   "cell_type": "code",
   "execution_count": 5,
   "metadata": {},
   "outputs": [
    {
     "data": {
      "text/plain": [
       "PosixPath('/home/adyprat/ModelEval/inputs/simulated')"
      ]
     },
     "execution_count": 5,
     "metadata": {},
     "output_type": "execute_result"
    }
   ],
   "source": [
    "Path.cwd().joinpath(evaluation.input_settings.datadir)"
   ]
  },
  {
   "cell_type": "code",
   "execution_count": 7,
   "metadata": {},
   "outputs": [
    {
     "name": "stdout",
     "output_type": "stream",
     "text": [
      "docker run -v ~/ModelEval:/SINCERITIES/ scinerities:base /bin/sh -c \"Rscript MAIN.R data/inputs/simulated/dataset1/SINCERITIES/ExpressionData.csv data/outputs/simulated/dataset1/SINCERITIES/outFile.txt \"\n"
     ]
    }
   ],
   "source": [
    "evaluation.runners[2].generateInputs()\n",
    "evaluation.runners[2].run()"
   ]
  },
  {
   "cell_type": "code",
   "execution_count": 5,
   "metadata": {},
   "outputs": [
    {
     "data": {
      "text/plain": [
       "0"
      ]
     },
     "execution_count": 5,
     "metadata": {},
     "output_type": "execute_result"
    }
   ],
   "source": [
    "#os.system(\"jupyter nbconvert --to script bench.ipynb\")"
   ]
  },
  {
   "cell_type": "code",
   "execution_count": 6,
   "metadata": {},
   "outputs": [],
   "source": [
    "evaluation.runners[2].generateInputs()"
   ]
  },
  {
   "cell_type": "code",
   "execution_count": 7,
   "metadata": {},
   "outputs": [],
   "source": [
    "import numpy as np\n",
    "import seaborn as sns\n",
    "import matplotlib.pyplot as plt\n",
    "%matplotlib inline"
   ]
  },
  {
   "cell_type": "code",
   "execution_count": 18,
   "metadata": {},
   "outputs": [
    {
     "data": {
      "text/plain": [
       "<matplotlib.legend.Legend at 0x7f470a74c588>"
      ]
     },
     "execution_count": 18,
     "metadata": {},
     "output_type": "execute_result"
    },
    {
     "data": {
      "image/png": "[encoded data removed]",
      "text/plain": [
       "<Figure size 432x288 with 1 Axes>"
      ]
     },
     "metadata": {},
     "output_type": "display_data"
    }
   ],
   "source": [
    "pDict = {}\n",
    "rDict = {}\n",
    "#plt.style.use('ggplot')\n",
    "plt.clf()\n",
    "sns.set(rc={\"lines.linewidth\": 2}, palette  = \"Set1\", style = \"ticks\")\n",
    "keys = [1, 2, 3, 4 ,5]\n",
    "for key in keys:\n",
    "    pDict[key] = [0]\n",
    "    rDict[key] = [0]\n",
    "    for i in range(0,np.random.randint(100,150)):\n",
    "        pDict[key].append(pDict[key][-1]+np.random.random())\n",
    "        rDict[key].append(i)\n",
    "    \n",
    "for key in pDict.keys():\n",
    "    sns.lineplot(rDict[key],pDict[key])\n",
    "\n",
    "plt.plot([0, 150], [0,70], linewidth = 1.5, color = 'k', linestyle = '--')\n",
    "\n",
    "plt.xlim(0,150)    \n",
    "plt.ylim(0,75)\n",
    "plt.xlabel('Recall')\n",
    "plt.ylabel('Precision')\n",
    "plt.legend(['1','2']) \n",
    "        \n"
   ]
  },
  {
   "cell_type": "code",
   "execution_count": 11,
   "metadata": {},
   "outputs": [],
   "source": [
    "import pandas as pd"
   ]
  },
  {
   "cell_type": "code",
   "execution_count": 27,
   "metadata": {},
   "outputs": [
    {
     "data": {
      "text/html": [
       "<div>\n",
       "<style scoped>\n",
       "    .dataframe tbody tr th:only-of-type {\n",
       "        vertical-align: middle;\n",
       "    }\n",
       "\n",
       "    .dataframe tbody tr th {\n",
       "        vertical-align: top;\n",
       "    }\n",
       "\n",
       "    .dataframe thead th {\n",
       "        text-align: right;\n",
       "    }\n",
       "</style>\n",
       "<table border=\"1\" class=\"dataframe\">\n",
       "  <thead>\n",
       "    <tr style=\"text-align: right;\">\n",
       "      <th></th>\n",
       "      <th>SOX2</th>\n",
       "      <th>ESRRB</th>\n",
       "      <th>UTF1</th>\n",
       "      <th>EPAS1</th>\n",
       "      <th>FOXQ1</th>\n",
       "      <th>KLF2</th>\n",
       "      <th>GATA4</th>\n",
       "      <th>SOX17</th>\n",
       "      <th>NR0B1</th>\n",
       "      <th>ZFP42</th>\n",
       "      <th>...</th>\n",
       "      <th>ELF2</th>\n",
       "      <th>ETS1</th>\n",
       "      <th>JUN</th>\n",
       "      <th>BMYC</th>\n",
       "      <th>POU4F2</th>\n",
       "      <th>TFEB</th>\n",
       "      <th>DDIT3</th>\n",
       "      <th>SALL4</th>\n",
       "      <th>ZFP462</th>\n",
       "      <th>Time</th>\n",
       "    </tr>\n",
       "  </thead>\n",
       "  <tbody>\n",
       "    <tr>\n",
       "      <th>c1</th>\n",
       "      <td>1.245513</td>\n",
       "      <td>1.279713</td>\n",
       "      <td>1.417324</td>\n",
       "      <td>0.551417</td>\n",
       "      <td>0.0</td>\n",
       "      <td>1.158272</td>\n",
       "      <td>0.000000</td>\n",
       "      <td>0.0</td>\n",
       "      <td>0.739102</td>\n",
       "      <td>1.562191</td>\n",
       "      <td>...</td>\n",
       "      <td>0.114497</td>\n",
       "      <td>0.0</td>\n",
       "      <td>0.199287</td>\n",
       "      <td>0.423367</td>\n",
       "      <td>0.620149</td>\n",
       "      <td>0.326412</td>\n",
       "      <td>0.263920</td>\n",
       "      <td>1.214939</td>\n",
       "      <td>0.861669</td>\n",
       "      <td>0</td>\n",
       "    </tr>\n",
       "    <tr>\n",
       "      <th>c2</th>\n",
       "      <td>1.219480</td>\n",
       "      <td>1.276735</td>\n",
       "      <td>1.546119</td>\n",
       "      <td>0.557738</td>\n",
       "      <td>0.0</td>\n",
       "      <td>1.129090</td>\n",
       "      <td>0.000001</td>\n",
       "      <td>0.0</td>\n",
       "      <td>1.001002</td>\n",
       "      <td>1.414920</td>\n",
       "      <td>...</td>\n",
       "      <td>0.179153</td>\n",
       "      <td>0.0</td>\n",
       "      <td>0.193692</td>\n",
       "      <td>0.290667</td>\n",
       "      <td>0.348735</td>\n",
       "      <td>0.397272</td>\n",
       "      <td>0.120037</td>\n",
       "      <td>0.934697</td>\n",
       "      <td>0.686662</td>\n",
       "      <td>0</td>\n",
       "    </tr>\n",
       "    <tr>\n",
       "      <th>c3</th>\n",
       "      <td>1.273929</td>\n",
       "      <td>1.167757</td>\n",
       "      <td>1.554748</td>\n",
       "      <td>0.490467</td>\n",
       "      <td>0.0</td>\n",
       "      <td>0.919075</td>\n",
       "      <td>0.000001</td>\n",
       "      <td>0.0</td>\n",
       "      <td>0.684227</td>\n",
       "      <td>1.352509</td>\n",
       "      <td>...</td>\n",
       "      <td>0.000041</td>\n",
       "      <td>0.0</td>\n",
       "      <td>0.033490</td>\n",
       "      <td>0.000000</td>\n",
       "      <td>0.425832</td>\n",
       "      <td>0.338249</td>\n",
       "      <td>0.000000</td>\n",
       "      <td>1.133261</td>\n",
       "      <td>0.117284</td>\n",
       "      <td>0</td>\n",
       "    </tr>\n",
       "    <tr>\n",
       "      <th>c4</th>\n",
       "      <td>1.290600</td>\n",
       "      <td>1.228051</td>\n",
       "      <td>1.225030</td>\n",
       "      <td>0.350676</td>\n",
       "      <td>0.0</td>\n",
       "      <td>1.140910</td>\n",
       "      <td>0.000001</td>\n",
       "      <td>0.0</td>\n",
       "      <td>1.077989</td>\n",
       "      <td>1.490019</td>\n",
       "      <td>...</td>\n",
       "      <td>0.224457</td>\n",
       "      <td>0.0</td>\n",
       "      <td>0.000000</td>\n",
       "      <td>0.167489</td>\n",
       "      <td>0.249427</td>\n",
       "      <td>0.405070</td>\n",
       "      <td>0.273934</td>\n",
       "      <td>1.062153</td>\n",
       "      <td>0.617618</td>\n",
       "      <td>0</td>\n",
       "    </tr>\n",
       "    <tr>\n",
       "      <th>c5</th>\n",
       "      <td>1.592997</td>\n",
       "      <td>1.388465</td>\n",
       "      <td>1.775559</td>\n",
       "      <td>0.896887</td>\n",
       "      <td>0.0</td>\n",
       "      <td>1.221018</td>\n",
       "      <td>0.000000</td>\n",
       "      <td>0.0</td>\n",
       "      <td>1.185502</td>\n",
       "      <td>1.732152</td>\n",
       "      <td>...</td>\n",
       "      <td>0.193228</td>\n",
       "      <td>0.0</td>\n",
       "      <td>0.034454</td>\n",
       "      <td>0.621668</td>\n",
       "      <td>0.867219</td>\n",
       "      <td>0.460418</td>\n",
       "      <td>0.045022</td>\n",
       "      <td>1.166696</td>\n",
       "      <td>0.496135</td>\n",
       "      <td>0</td>\n",
       "    </tr>\n",
       "  </tbody>\n",
       "</table>\n",
       "<p>5 rows × 101 columns</p>\n",
       "</div>"
      ],
      "text/plain": [
       "        SOX2     ESRRB      UTF1     EPAS1  FOXQ1      KLF2     GATA4  SOX17  \\\n",
       "c1  1.245513  1.279713  1.417324  0.551417    0.0  1.158272  0.000000    0.0   \n",
       "c2  1.219480  1.276735  1.546119  0.557738    0.0  1.129090  0.000001    0.0   \n",
       "c3  1.273929  1.167757  1.554748  0.490467    0.0  0.919075  0.000001    0.0   \n",
       "c4  1.290600  1.228051  1.225030  0.350676    0.0  1.140910  0.000001    0.0   \n",
       "c5  1.592997  1.388465  1.775559  0.896887    0.0  1.221018  0.000000    0.0   \n",
       "\n",
       "       NR0B1     ZFP42  ...       ELF2  ETS1       JUN      BMYC    POU4F2  \\\n",
       "c1  0.739102  1.562191  ...   0.114497   0.0  0.199287  0.423367  0.620149   \n",
       "c2  1.001002  1.414920  ...   0.179153   0.0  0.193692  0.290667  0.348735   \n",
       "c3  0.684227  1.352509  ...   0.000041   0.0  0.033490  0.000000  0.425832   \n",
       "c4  1.077989  1.490019  ...   0.224457   0.0  0.000000  0.167489  0.249427   \n",
       "c5  1.185502  1.732152  ...   0.193228   0.0  0.034454  0.621668  0.867219   \n",
       "\n",
       "        TFEB     DDIT3     SALL4    ZFP462  Time  \n",
       "c1  0.326412  0.263920  1.214939  0.861669     0  \n",
       "c2  0.397272  0.120037  0.934697  0.686662     0  \n",
       "c3  0.338249  0.000000  1.133261  0.117284     0  \n",
       "c4  0.405070  0.273934  1.062153  0.617618     0  \n",
       "c5  0.460418  0.045022  1.166696  0.496135     0  \n",
       "\n",
       "[5 rows x 101 columns]"
      ]
     },
     "execution_count": 27,
     "metadata": {},
     "output_type": "execute_result"
    }
   ],
   "source": [
    "DF = pd.read_csv('inputs/simulated/dataset1/ExpressionData.csv', header= 0, index_col = 0)\n",
    "newDF = DF.T.copy()\n",
    "pDF = pd.read_csv('inputs/simulated/dataset1/PseudoTime.csv', header= 0, index_col = 0)\n",
    "newDF['Time'] = pDF['Time']\n",
    "newDF.head()"
   ]
  },
  {
   "cell_type": "code",
   "execution_count": 4,
   "metadata": {},
   "outputs": [],
   "source": [
    "evaluation.runners[2].parseOutput()"
   ]
  },
  {
   "cell_type": "code",
   "execution_count": 3,
   "metadata": {},
   "outputs": [
    {
     "name": "stdout",
     "output_type": "stream",
     "text": [
      "outputs/simulated/dataset1/SCNS/rankedEdges.csv  does not exist. Skipping...\n",
      "SCODE\n"
     ]
    },
    {
     "name": "stderr",
     "output_type": "stream",
     "text": [
      "/home/adyprat/anaconda3/lib/python3.7/site-packages/scipy/stats/stats.py:1713: FutureWarning: Using a non-tuple sequence for multidimensional indexing is deprecated; use `arr[tuple(seq)]` instead of `arr[seq]`. In the future this will be interpreted as an array index, `arr[np.array(seq)]`, which will result either in an error or a different result.\n",
      "  return np.add.reduce(sorted[indexer] * weights, axis=axis) / sumval\n"
     ]
    },
    {
     "name": "stdout",
     "output_type": "stream",
     "text": [
      "SINCERITIES\n"
     ]
    },
    {
     "data": {
      "image/png": "[encoded data removed]",
      "text/plain": [
       "<Figure size 432x288 with 1 Axes>"
      ]
     },
     "metadata": {
      "needs_background": "light"
     },
     "output_type": "display_data"
    }
   ],
   "source": [
    "evaluation.evaluate_runners()"
   ]
  },
  {
   "cell_type": "code",
   "execution_count": 12,
   "metadata": {},
   "outputs": [],
   "source": [
    "dataDict = evaluation.input_settings.datasets[0]"
   ]
  },
  {
   "cell_type": "code",
   "execution_count": 13,
   "metadata": {},
   "outputs": [],
   "source": [
    "inputSettings = evaluation.input_settings\n",
    "import pandas as pd\n",
    "import numpy as np\n",
    "import seaborn as sns\n",
    "from pathlib import Path\n",
    "import matplotlib.pyplot as plt\n",
    "import seaborn as sns"
   ]
  },
  {
   "cell_type": "code",
   "execution_count": 16,
   "metadata": {},
   "outputs": [
    {
     "name": "stdout",
     "output_type": "stream",
     "text": [
      "outputs/simulated/dataset1/SCNS/rankedEdges.csv  does not exist. Skipping...\n",
      "SCODE\n",
      "SINCERITIES\n"
     ]
    },
    {
     "data": {
      "text/plain": [
       "<matplotlib.legend.Legend at 0x7f470b6e6898>"
      ]
     },
     "execution_count": 16,
     "metadata": {},
     "output_type": "execute_result"
    },
    {
     "data": {
      "image/png": "[encoded data removed]",
      "text/plain": [
       "<Figure size 432x288 with 1 Axes>"
      ]
     },
     "metadata": {
      "needs_background": "light"
     },
     "output_type": "display_data"
    }
   ],
   "source": [
    "# Read file for trueEdges\n",
    "trueEdgesFile = pd.read_csv(str(inputSettings.datadir)+'/'+ dataDict['name'] +\n",
    "                            '/' +dataDict['trueEdges'],\n",
    "                            sep = '\\t', header = 0, index_col = None)\n",
    "\n",
    "\n",
    "\n",
    "# Initialize data dictionaries\n",
    "precisionDict = {}\n",
    "recallDict = {}\n",
    "FPRDict = {}\n",
    "AUPRC = {}\n",
    "\n",
    "outDir = \"outputs/\"+str(inputSettings.datadir).split(\"inputs/\")[1]+ '/' +dataDict['name']\n",
    "for algo in inputSettings.algorithms:\n",
    "    tp = 0\n",
    "    fp = 0\n",
    "    total = 0 # total predictions made\n",
    "    totalTrue = trueEdgesFile.shape[0] # Condition Positives\n",
    "    \n",
    "    # check if the output rankedEdges file exists\n",
    "    if Path(outDir + '/' +algo[0]+'/rankedEdges.csv').exists():\n",
    "        precisionDict[algo[0]] = [] # Initialize Precsion\n",
    "        recallDict[algo[0]] = [] # Initialize Recall\n",
    "        FPRDict[algo[0]] = [] # Initialize FPR\n",
    "        predEdgesFile = pd.read_csv(outDir + '/' +algo[0]+'/rankedEdges.csv', \\\n",
    "                                    sep = '\\t', header =  0, index_col = None)\n",
    "        pOld = 0\n",
    "        rOld = 0\n",
    "        AUPRC[algo[0]] = 0 # Initialize AUPRC\n",
    "        for idx, row in predEdgesFile.iterrows():\n",
    "            if trueEdgesFile.loc[(trueEdgesFile['Gene1'] == row['Gene1']) & \\\n",
    "                                 (trueEdgesFile['Gene2'] == row['Gene2'])].shape[0] > 0:\n",
    "                tp += 1\n",
    "            else:\n",
    "                fp += 1\n",
    "            total += 1\n",
    "\n",
    "            pNew = float(tp)/float(total)\n",
    "            rNew = float(tp)/float(totalTrue)\n",
    "\n",
    "            precisionDict[algo[0]].append(pNew)\n",
    "            recallDict[algo[0]].append(rNew)\n",
    "\n",
    "            AUPRC[algo[0]] += ((rNew - rOld)*(pOld + pNew)/2) # compute AUPRC\n",
    "\n",
    "            pOld = pNew\n",
    "            rOld = rNew\n",
    "            FPRDict[algo[0]].append(float(fp)) # List of FP values\n",
    "\n",
    "        FPRDict[algo[0]] = [val/float(total - totalTrue) for val in FPRDict[algo[0]]] # update FPR\n",
    "\n",
    "    else:\n",
    "        print(outDir + '/' +algo[0]+'/rankedEdges.csv', \\\n",
    "              ' does not exist. Skipping...')\n",
    "\n",
    "## Make PR curves\n",
    "legendList = []\n",
    "for key in precisionDict.keys():\n",
    "    print(key)\n",
    "    sns.lineplot(recallDict[key],precisionDict[key])\n",
    "    legendList.append(str(key) + ' (AUPRC = ' + str(\"%.2f\" % (AUPRC[key]))+')')\n",
    "\n",
    "plt.xlim(0,1)    \n",
    "plt.ylim(0,1)\n",
    "plt.xlabel('Recall')\n",
    "plt.ylabel('Precision')\n",
    "plt.legend(legendList) "
   ]
  },
  {
   "cell_type": "code",
   "execution_count": null,
   "metadata": {},
   "outputs": [],
   "source": []
  }
 ],
 "metadata": {
  "kernelspec": {
   "display_name": "Python 3",
   "language": "python",
   "name": "python3"
  },
  "language_info": {
   "codemirror_mode": {
    "name": "ipython",
    "version": 3
   },
   "file_extension": ".py",
   "mimetype": "text/x-python",
   "name": "python",
   "nbconvert_exporter": "python",
   "pygments_lexer": "ipython3",
   "version": "3.7.1"
  }
 },
 "nbformat": 4,
 "nbformat_minor": 2
}
