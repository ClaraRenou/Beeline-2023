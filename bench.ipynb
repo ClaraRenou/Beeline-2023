{
 "cells": [
  {
   "cell_type": "code",
   "execution_count": 5,
   "metadata": {},
   "outputs": [],
   "source": [
    "import yaml\n",
    "import argparse\n",
    "import itertools\n",
    "from collections import defaultdict\n",
    "from pathlib import Path\n",
    "import multiprocessing\n",
    "from multiprocessing import Pool, cpu_count\n",
    "import concurrent.futures\n",
    "from typing import Dict, List\n",
    "from src.runner import Runner\n",
    "import yaml\n",
    "import argparse\n",
    "import itertools\n",
    "from collections import defaultdict\n",
    "from pathlib import Path\n",
    "import multiprocessing\n",
    "from multiprocessing import Pool, cpu_count\n",
    "import concurrent.futures\n",
    "from typing import Dict, List\n",
    "from src.runner import Runner\n",
    "import os\n",
    "from src.plotCurves import EvalCurves\n",
    "\n",
    "class InputSettings(object):\n",
    "    def __init__(self,\n",
    "            datadir, datasets, algorithms) -> None:\n",
    "        \n",
    "        self.datadir = datadir\n",
    "        self.datasets = datasets\n",
    "        self.algorithms = algorithms\n",
    "\n",
    "\n",
    "class OutputSettings(object):\n",
    "    '''\n",
    "    Structure for storing the names of directories that output should\n",
    "    be written to\n",
    "    '''\n",
    "\n",
    "    def __init__(self, base_dir: Path) -> None:\n",
    "        self.base_dir = base_dir\n",
    "\n",
    "        \n",
    "class Evaluation(object):\n",
    "    '''\n",
    "    The Evaluation object is created by parsing a user-provided configuration\n",
    "    file. Its methods provide for further processing its inputs into\n",
    "    a series of jobs to be run, as well as running these jobs.\n",
    "    '''\n",
    "\n",
    "    def __init__(self,\n",
    "            input_settings: InputSettings,\n",
    "            output_settings: OutputSettings) -> None:\n",
    "\n",
    "        self.input_settings = input_settings\n",
    "        self.output_settings = output_settings\n",
    "        self.runners: Dict[int, Runner] = self.__create_runners()\n",
    "\n",
    "\n",
    "    def __create_runners(self) -> Dict[int, List[Runner]]:\n",
    "        '''\n",
    "        Instantiate the set of runners based on parameters provided via the\n",
    "        configuration file. Each runner is supplied an interactome, collection,\n",
    "        the set of algorithms to be run, and graphspace credentials, in\n",
    "        addition to the custom parameters each runner may or may not define.\n",
    "        '''\n",
    "        \n",
    "        runners: Dict[int, Runner] = defaultdict(list)\n",
    "        order = 0\n",
    "        for dataset in self.input_settings.datasets:\n",
    "            for runner in self.input_settings.algorithms:\n",
    "                data = {}\n",
    "                data['name'] = runner[0]\n",
    "                data['params'] = runner[1]\n",
    "                data['inputDir'] = Path.cwd().joinpath(self.input_settings.datadir.joinpath(dataset['name']))\n",
    "                print(data['inputDir'])\n",
    "                runners[order] = Runner(data)\n",
    "                order += 1            \n",
    "        return runners\n",
    "\n",
    "\n",
    "    def execute_runners(self, parallel=False, num_threads=1):\n",
    "        '''\n",
    "        Run each of the algorithms\n",
    "        '''\n",
    "\n",
    "        base_output_dir = self.output_settings.base_dir\n",
    "\n",
    "        batches =  self.runners.keys()\n",
    "\n",
    "        for batch in batches:\n",
    "            if parallel==True:\n",
    "                executor = concurrent.futures.ThreadPoolExecutor(max_workers=1)\n",
    "                futures = [executor.submit(runner.run, base_output_dir)\n",
    "                    for runner in self.runners[batch]]\n",
    "                \n",
    "                # https://stackoverflow.com/questions/35711160/detect-failed-tasks-in-concurrent-futures\n",
    "                # Re-raise exception if produced\n",
    "                for future in concurrent.futures.as_completed(futures):\n",
    "                    future.result()\n",
    "                executor.shutdown(wait=True)\n",
    "            else:\n",
    "                for runner in self.runners[batch]:\n",
    "                    runner.run(output_dir=base_output_dir)\n",
    "                    \n",
    "            \n",
    "    def evaluate_runners(self):\n",
    "        '''\n",
    "        Plot PR and ROC curves for each dataset\n",
    "        for all the algorithms\n",
    "        '''\n",
    "        for dataset in self.input_settings.datasets:              \n",
    "            EvalCurves(dataset, self.input_settings)\n",
    "                \n",
    "                \n",
    "class ConfigParser(object):\n",
    "    '''\n",
    "    Define static methods for parsing a config file that sets a large number\n",
    "    of parameters for the pipeline\n",
    "    '''\n",
    "    @staticmethod\n",
    "    def parse(config_file_handle) -> Evaluation:\n",
    "        config_map = yaml.load(config_file_handle)\n",
    "        return Evaluation(\n",
    "            ConfigParser.__parse_input_settings(\n",
    "                config_map['input_settings']),\n",
    "            ConfigParser.__parse_output_settings(\n",
    "                config_map['output_settings']))\n",
    "\n",
    "    @staticmethod\n",
    "    def __parse_input_settings(input_settings_map) -> InputSettings:\n",
    "        input_dir = input_settings_map['input_dir']\n",
    "        dataset_dir = input_settings_map['dataset_dir']\n",
    "        datasets = input_settings_map['datasets']\n",
    "\n",
    "        return InputSettings(\n",
    "                Path(input_dir, dataset_dir),\n",
    "                datasets,\n",
    "                ConfigParser.__parse_algorithms(\n",
    "                input_settings_map['algorithms']))\n",
    "\n",
    "\n",
    "    @staticmethod\n",
    "    def __parse_algorithms(algorithms_list):\n",
    "        algorithms = []\n",
    "        for algorithm in algorithms_list:\n",
    "                combos = [dict(zip(algorithm['params'], val))\n",
    "                    for val in itertools.product(\n",
    "                        *(algorithm['params'][param]\n",
    "                            for param in algorithm['params']))]\n",
    "                for combo in combos:\n",
    "                    algorithms.append([algorithm['name'],combo])\n",
    "            \n",
    "\n",
    "        return algorithms\n",
    "\n",
    "    @staticmethod\n",
    "    def __parse_output_settings(output_settings_map):\n",
    "        output_dir = Path(output_settings_map['output_dir'])\n",
    "        return OutputSettings(output_dir)\n",
    "\n",
    "def get_parser() -> argparse.ArgumentParser:\n",
    "    '''\n",
    "    :return: an argparse ArgumentParser object for parsing command\n",
    "        line parameters\n",
    "    '''\n",
    "    parser = argparse.ArgumentParser(\n",
    "        description='Run pathway reconstruction pipeline.')\n",
    "\n",
    "    parser.add_argument('--config', default='config.yaml',\n",
    "        help='Configuration file')\n",
    "\n",
    "    return parser\n",
    "\n",
    "def parse_arguments():\n",
    "    '''\n",
    "    Initialize a parser and use it to parse the command line arguments\n",
    "    :return: parsed dictionary of command line arguments\n",
    "    '''\n",
    "    parser = get_parser()\n",
    "    opts = parser.parse_args()\n",
    "\n",
    "    return opts"
   ]
  },
  {
   "cell_type": "code",
   "execution_count": 6,
   "metadata": {},
   "outputs": [
    {
     "name": "stdout",
     "output_type": "stream",
     "text": [
      "/home/adyprat/ModelEval/inputs/simulated/DS4\n",
      "/home/adyprat/ModelEval/inputs/simulated/DS4\n",
      "/home/adyprat/ModelEval/inputs/simulated/DS4\n",
      "/home/adyprat/ModelEval/inputs/simulated/DS4\n",
      "/home/adyprat/ModelEval/inputs/simulated/DS4\n",
      "/home/adyprat/ModelEval/inputs/simulated/DS4\n",
      "/home/adyprat/ModelEval/inputs/simulated/DS4\n",
      "/home/adyprat/ModelEval/inputs/simulated/DS4\n",
      "<__main__.Evaluation object at 0x7f96c7b4f320>\n",
      "Evaluation started\n",
      "Evaluation complete\n"
     ]
    }
   ],
   "source": [
    "with open(\"config.yaml\", 'r') as conf:\n",
    "    evaluation = ConfigParser.parse(conf)\n",
    "print(evaluation)\n",
    "print('Evaluation started')\n",
    "\n",
    "# Do something\n",
    "\n",
    "print('Evaluation complete')"
   ]
  },
  {
   "cell_type": "code",
   "execution_count": 7,
   "metadata": {},
   "outputs": [
    {
     "data": {
      "text/plain": [
       "[{'name': 'DS4',\n",
       "  'ex_filename': 'ExpressionData.csv',\n",
       "  'pt_filename': 'PseudoTime.csv',\n",
       "  'trueEdges': 'randNetwork.tsv'}]"
      ]
     },
     "execution_count": 7,
     "metadata": {},
     "output_type": "execute_result"
    }
   ],
   "source": [
    "evaluation.input_settings.datasets"
   ]
  },
  {
   "cell_type": "code",
   "execution_count": 8,
   "metadata": {},
   "outputs": [
    {
     "name": "stdout",
     "output_type": "stream",
     "text": [
      "['SCODE', {'should_run': True, 'nGenes': 10, 'z': 4, 'nCells': 210, 'nIter': 100, 'nRep': 5}]\n",
      "['SINCERITIES', {'should_run': True}]\n",
      "['PIDC', {'should_run': True}]\n",
      "['GRNVBEM', {'should_run': True}]\n",
      "['GENIE3', {'should_run': True}]\n",
      "['GRNBOOST2', {'should_run': True}]\n",
      "['LEAP', {'should_run': True}]\n",
      "['JUMP3', {'should_run': True}]\n"
     ]
    }
   ],
   "source": [
    "for alg in evaluation.input_settings.algorithms:\n",
    "    print(alg)"
   ]
  },
  {
   "cell_type": "code",
   "execution_count": 9,
   "metadata": {},
   "outputs": [
    {
     "data": {
      "text/plain": [
       "PosixPath('/home/adyprat/ModelEval/inputs/simulated')"
      ]
     },
     "execution_count": 9,
     "metadata": {},
     "output_type": "execute_result"
    }
   ],
   "source": [
    "Path.cwd().joinpath(evaluation.input_settings.datadir)"
   ]
  },
  {
   "cell_type": "code",
   "execution_count": 10,
   "metadata": {},
   "outputs": [],
   "source": [
    "evaluation.runners[1].generateInputs()"
   ]
  },
  {
   "cell_type": "code",
   "execution_count": 11,
   "metadata": {},
   "outputs": [
    {
     "name": "stdout",
     "output_type": "stream",
     "text": [
      "Input folder for JUMP3 does not exist, creating input folder...\n"
     ]
    }
   ],
   "source": [
    "for idx in range(len(evaluation.runners)):\n",
    "    evaluation.runners[idx].generateInputs()"
   ]
  },
  {
   "cell_type": "code",
   "execution_count": 5,
   "metadata": {},
   "outputs": [
    {
     "data": {
      "text/plain": [
       "0"
      ]
     },
     "execution_count": 5,
     "metadata": {},
     "output_type": "execute_result"
    }
   ],
   "source": [
    "#os.system(\"jupyter nbconvert --to script bench.ipynb\")"
   ]
  },
  {
   "cell_type": "code",
   "execution_count": 12,
   "metadata": {},
   "outputs": [
    {
     "name": "stdout",
     "output_type": "stream",
     "text": [
      "docker run --rm -v ~/ModelEval:/SCODE/data/  scode:base /bin/sh -c \"ruby run_R.rb data/inputs/simulated/DS4/SCODE/ExpressionData.csv data/inputs/simulated/DS4/SCODE/PseudoTime.csv  data/outputs/simulated/DS4/SCODE/ 10 4 210 100 5 \"\n",
      "docker run --rm -v ~/ModelEval:/SINCERITIES/data/ sincerities:base /bin/sh -c \"Rscript MAIN.R data/inputs/simulated/DS4/SINCERITIES/ExpressionData.csv data/outputs/simulated/DS4/SINCERITIES/outFile.txt \"\n",
      "docker run --rm -v ~/ModelEval:/data pidc:base /bin/sh -c \"julia runPIDC.jl data/inputs/simulated/DS4/PIDC/ExpressionData.csv data/outputs/simulated/DS4/PIDC/outFile.txt \"\n",
      "docker run --rm -v ~/ModelEval:/VBEM/data/ grnvbem:base /bin/sh -c \"./GRNVBEM  data/inputs/simulated/DS4/GRNVBEM/ExpressionData.csv data/outputs/simulated/DS4/GRNVBEM/outFile.txt \"\n",
      "docker run --rm -v ~/ModelEval:/data/ --expose=41269 arboreto:base /bin/sh -c \"python runArboreto.py --algo=GENIE3 --inFile=data/inputs/simulated/DS4/GENIE3/ExpressionData.csv --outFile=data/outputs/simulated/DS4/GENIE3/outFile.txt \"\n",
      "docker run --rm -v ~/ModelEval:/data/ --expose=41269 arboreto:base /bin/sh -c \"python runArboreto.py --algo=GRNBoost2 --inFile=data/inputs/simulated/DS4/GRNBOOST2/ExpressionData.csv --outFile=data/outputs/simulated/DS4/GRNBOOST2/outFile.txt \"\n",
      "docker run --rm -v ~/ModelEval:/data/ leap:base /bin/sh -c \"Rscript runLeap.R data/inputs/simulated/DS4/LEAP/ExpressionData.csv data/outputs/simulated/DS4/LEAP/outFile.txt \"\n",
      "docker run --rm -v ~/ModelEval:/JUMP3/data/ grnvbem:base /bin/sh -c \"./runJump3  data/inputs/simulated/DS4/JUMP3/ExpressionData.csv data/outputs/simulated/DS4/JUMP3/outFile.txt \"\n"
     ]
    }
   ],
   "source": [
    "for idx in range(len(evaluation.runners)):\n",
    "    evaluation.runners[idx].run()\n",
    "    \n"
   ]
  },
  {
   "cell_type": "code",
   "execution_count": 3,
   "metadata": {},
   "outputs": [],
   "source": [
    "for idx in range(len(evaluation.runners)):\n",
    "    evaluation.runners[idx].parseOutput()"
   ]
  },
  {
   "cell_type": "code",
   "execution_count": 3,
   "metadata": {},
   "outputs": [],
   "source": [
    "evaluation.runners[6].parseOutput()"
   ]
  },
  {
   "cell_type": "code",
   "execution_count": 7,
   "metadata": {},
   "outputs": [],
   "source": [
    "import numpy as np\n",
    "import seaborn as sns\n",
    "import matplotlib.pyplot as plt\n",
    "%matplotlib inline"
   ]
  },
  {
   "cell_type": "code",
   "execution_count": 18,
   "metadata": {},
   "outputs": [
    {
     "data": {
      "text/plain": [
       "<matplotlib.legend.Legend at 0x7f470a74c588>"
      ]
     },
     "execution_count": 18,
     "metadata": {},
     "output_type": "execute_result"
    },
    {
     "data": {
      "image/png": "[encoded data removed]",
      "text/plain": [
       "<Figure size 432x288 with 1 Axes>"
      ]
     },
     "metadata": {},
     "output_type": "display_data"
    }
   ],
   "source": [
    "pDict = {}\n",
    "rDict = {}\n",
    "#plt.style.use('ggplot')\n",
    "plt.clf()\n",
    "sns.set(rc={\"lines.linewidth\": 2}, palette  = \"Set1\", style = \"ticks\")\n",
    "keys = [1, 2, 3, 4 ,5]\n",
    "for key in keys:\n",
    "    pDict[key] = [0]\n",
    "    rDict[key] = [0]\n",
    "    for i in range(0,np.random.randint(100,150)):\n",
    "        pDict[key].append(pDict[key][-1]+np.random.random())\n",
    "        rDict[key].append(i)\n",
    "    \n",
    "for key in pDict.keys():\n",
    "    sns.lineplot(rDict[key],pDict[key])\n",
    "\n",
    "plt.plot([0, 150], [0,70], linewidth = 1.5, color = 'k', linestyle = '--')\n",
    "\n",
    "plt.xlim(0,150)    \n",
    "plt.ylim(0,75)\n",
    "plt.xlabel('Recall')\n",
    "plt.ylabel('Precision')\n",
    "plt.legend(['1','2']) \n",
    "        \n"
   ]
  },
  {
   "cell_type": "code",
   "execution_count": 11,
   "metadata": {},
   "outputs": [],
   "source": [
    "import pandas as pd"
   ]
  },
  {
   "cell_type": "code",
   "execution_count": 19,
   "metadata": {},
   "outputs": [
    {
     "data": {
      "text/html": [
       "<div>\n",
       "<style scoped>\n",
       "    .dataframe tbody tr th:only-of-type {\n",
       "        vertical-align: middle;\n",
       "    }\n",
       "\n",
       "    .dataframe tbody tr th {\n",
       "        vertical-align: top;\n",
       "    }\n",
       "\n",
       "    .dataframe thead th {\n",
       "        text-align: right;\n",
       "    }\n",
       "</style>\n",
       "<table border=\"1\" class=\"dataframe\">\n",
       "  <thead>\n",
       "    <tr style=\"text-align: right;\">\n",
       "      <th></th>\n",
       "      <th>c1</th>\n",
       "      <th>c2</th>\n",
       "      <th>c3</th>\n",
       "      <th>c4</th>\n",
       "      <th>c5</th>\n",
       "      <th>c6</th>\n",
       "      <th>c7</th>\n",
       "      <th>c8</th>\n",
       "      <th>c9</th>\n",
       "      <th>c10</th>\n",
       "      <th>...</th>\n",
       "      <th>c347</th>\n",
       "      <th>c348</th>\n",
       "      <th>c349</th>\n",
       "      <th>c350</th>\n",
       "      <th>c351</th>\n",
       "      <th>c352</th>\n",
       "      <th>c353</th>\n",
       "      <th>c354</th>\n",
       "      <th>c355</th>\n",
       "      <th>c356</th>\n",
       "    </tr>\n",
       "  </thead>\n",
       "  <tbody>\n",
       "    <tr>\n",
       "      <th>SOX2</th>\n",
       "      <td>1.245513</td>\n",
       "      <td>1.219480</td>\n",
       "      <td>1.273929</td>\n",
       "      <td>1.290600</td>\n",
       "      <td>1.592997</td>\n",
       "      <td>1.419606</td>\n",
       "      <td>1.269637</td>\n",
       "      <td>1.078170</td>\n",
       "      <td>1.065146</td>\n",
       "      <td>1.317938</td>\n",
       "      <td>...</td>\n",
       "      <td>0.000000</td>\n",
       "      <td>0.000000</td>\n",
       "      <td>0.000000</td>\n",
       "      <td>0.000000</td>\n",
       "      <td>0.000000</td>\n",
       "      <td>0.000000</td>\n",
       "      <td>0.000000</td>\n",
       "      <td>0.000000</td>\n",
       "      <td>0.000000</td>\n",
       "      <td>0.047353</td>\n",
       "    </tr>\n",
       "    <tr>\n",
       "      <th>ESRRB</th>\n",
       "      <td>1.279713</td>\n",
       "      <td>1.276735</td>\n",
       "      <td>1.167757</td>\n",
       "      <td>1.228051</td>\n",
       "      <td>1.388465</td>\n",
       "      <td>1.393951</td>\n",
       "      <td>1.229218</td>\n",
       "      <td>1.164620</td>\n",
       "      <td>1.180736</td>\n",
       "      <td>1.266996</td>\n",
       "      <td>...</td>\n",
       "      <td>0.000000</td>\n",
       "      <td>0.000000</td>\n",
       "      <td>0.000000</td>\n",
       "      <td>0.000000</td>\n",
       "      <td>0.000000</td>\n",
       "      <td>0.000000</td>\n",
       "      <td>0.000000</td>\n",
       "      <td>0.000000</td>\n",
       "      <td>0.000000</td>\n",
       "      <td>0.000000</td>\n",
       "    </tr>\n",
       "    <tr>\n",
       "      <th>UTF1</th>\n",
       "      <td>1.417324</td>\n",
       "      <td>1.546119</td>\n",
       "      <td>1.554748</td>\n",
       "      <td>1.225030</td>\n",
       "      <td>1.775559</td>\n",
       "      <td>1.606876</td>\n",
       "      <td>1.663052</td>\n",
       "      <td>1.519041</td>\n",
       "      <td>1.575766</td>\n",
       "      <td>1.678738</td>\n",
       "      <td>...</td>\n",
       "      <td>0.000000</td>\n",
       "      <td>0.119715</td>\n",
       "      <td>0.118964</td>\n",
       "      <td>0.225039</td>\n",
       "      <td>0.000000</td>\n",
       "      <td>0.000000</td>\n",
       "      <td>0.000000</td>\n",
       "      <td>0.093533</td>\n",
       "      <td>0.037996</td>\n",
       "      <td>0.838893</td>\n",
       "    </tr>\n",
       "    <tr>\n",
       "      <th>EPAS1</th>\n",
       "      <td>0.551417</td>\n",
       "      <td>0.557738</td>\n",
       "      <td>0.490467</td>\n",
       "      <td>0.350676</td>\n",
       "      <td>0.896887</td>\n",
       "      <td>0.276154</td>\n",
       "      <td>0.625784</td>\n",
       "      <td>0.338052</td>\n",
       "      <td>0.428949</td>\n",
       "      <td>0.334456</td>\n",
       "      <td>...</td>\n",
       "      <td>1.305164</td>\n",
       "      <td>1.220422</td>\n",
       "      <td>1.377212</td>\n",
       "      <td>1.146544</td>\n",
       "      <td>1.452294</td>\n",
       "      <td>1.439233</td>\n",
       "      <td>1.463899</td>\n",
       "      <td>1.544450</td>\n",
       "      <td>1.302433</td>\n",
       "      <td>1.333536</td>\n",
       "    </tr>\n",
       "    <tr>\n",
       "      <th>FOXQ1</th>\n",
       "      <td>0.000000</td>\n",
       "      <td>0.000000</td>\n",
       "      <td>0.000000</td>\n",
       "      <td>0.000000</td>\n",
       "      <td>0.000000</td>\n",
       "      <td>0.000000</td>\n",
       "      <td>0.000000</td>\n",
       "      <td>0.000000</td>\n",
       "      <td>0.000000</td>\n",
       "      <td>0.000000</td>\n",
       "      <td>...</td>\n",
       "      <td>0.329386</td>\n",
       "      <td>0.924943</td>\n",
       "      <td>0.769071</td>\n",
       "      <td>1.138742</td>\n",
       "      <td>0.625939</td>\n",
       "      <td>1.030036</td>\n",
       "      <td>0.702981</td>\n",
       "      <td>0.954932</td>\n",
       "      <td>0.704600</td>\n",
       "      <td>1.116445</td>\n",
       "    </tr>\n",
       "  </tbody>\n",
       "</table>\n",
       "<p>5 rows × 356 columns</p>\n",
       "</div>"
      ],
      "text/plain": [
       "             c1        c2        c3        c4        c5        c6        c7  \\\n",
       "SOX2   1.245513  1.219480  1.273929  1.290600  1.592997  1.419606  1.269637   \n",
       "ESRRB  1.279713  1.276735  1.167757  1.228051  1.388465  1.393951  1.229218   \n",
       "UTF1   1.417324  1.546119  1.554748  1.225030  1.775559  1.606876  1.663052   \n",
       "EPAS1  0.551417  0.557738  0.490467  0.350676  0.896887  0.276154  0.625784   \n",
       "FOXQ1  0.000000  0.000000  0.000000  0.000000  0.000000  0.000000  0.000000   \n",
       "\n",
       "             c8        c9       c10    ...         c347      c348      c349  \\\n",
       "SOX2   1.078170  1.065146  1.317938    ...     0.000000  0.000000  0.000000   \n",
       "ESRRB  1.164620  1.180736  1.266996    ...     0.000000  0.000000  0.000000   \n",
       "UTF1   1.519041  1.575766  1.678738    ...     0.000000  0.119715  0.118964   \n",
       "EPAS1  0.338052  0.428949  0.334456    ...     1.305164  1.220422  1.377212   \n",
       "FOXQ1  0.000000  0.000000  0.000000    ...     0.329386  0.924943  0.769071   \n",
       "\n",
       "           c350      c351      c352      c353      c354      c355      c356  \n",
       "SOX2   0.000000  0.000000  0.000000  0.000000  0.000000  0.000000  0.047353  \n",
       "ESRRB  0.000000  0.000000  0.000000  0.000000  0.000000  0.000000  0.000000  \n",
       "UTF1   0.225039  0.000000  0.000000  0.000000  0.093533  0.037996  0.838893  \n",
       "EPAS1  1.146544  1.452294  1.439233  1.463899  1.544450  1.302433  1.333536  \n",
       "FOXQ1  1.138742  0.625939  1.030036  0.702981  0.954932  0.704600  1.116445  \n",
       "\n",
       "[5 rows x 356 columns]"
      ]
     },
     "execution_count": 19,
     "metadata": {},
     "output_type": "execute_result"
    }
   ],
   "source": [
    "DF = pd.read_csv('inputs/simulated/dataset1/ExpressionData.csv', header= 0, index_col = 0)\n",
    "newDF = DF.T.copy()\n",
    "pDF = pd.read_csv('inputs/simulated/dataset1/PseudoTime.csv', header= 0, index_col = 0)\n",
    "newDF['Time'] = pDF['Time']\n",
    "DF.head()"
   ]
  },
  {
   "cell_type": "code",
   "execution_count": 3,
   "metadata": {},
   "outputs": [
    {
     "data": {
      "text/plain": [
       "defaultdict(list,\n",
       "            {0: <src.runner.Runner at 0x7fe1ac0ac5f8>,\n",
       "             1: <src.runner.Runner at 0x7fe1ac0ac898>,\n",
       "             2: <src.runner.Runner at 0x7fe1ac0ac2e8>,\n",
       "             3: <src.runner.Runner at 0x7fe1ac0ac8d0>,\n",
       "             4: <src.runner.Runner at 0x7fe1ac0ac748>,\n",
       "             5: <src.runner.Runner at 0x7fe1ac0ac860>})"
      ]
     },
     "execution_count": 3,
     "metadata": {},
     "output_type": "execute_result"
    }
   ],
   "source": [
    "evaluation.runners"
   ]
  },
  {
   "cell_type": "code",
   "execution_count": 7,
   "metadata": {},
   "outputs": [
    {
     "name": "stdout",
     "output_type": "stream",
     "text": [
      "SCODE\n",
      "SINCERITIES\n",
      "PIDC\n",
      "GRNVBEM\n",
      "GENIE3\n",
      "GRNBOOST2\n",
      "LEAP\n",
      "JUMP3\n"
     ]
    },
    {
     "data": {
      "image/png": "[encoded data removed]",
      "text/plain": [
       "<Figure size 432x288 with 1 Axes>"
      ]
     },
     "metadata": {
      "needs_background": "light"
     },
     "output_type": "display_data"
    }
   ],
   "source": [
    "evaluation.evaluate_runners()"
   ]
  },
  {
   "cell_type": "code",
   "execution_count": 8,
   "metadata": {},
   "outputs": [],
   "source": [
    "dataDict = evaluation.input_settings.datasets[0]"
   ]
  },
  {
   "cell_type": "code",
   "execution_count": 9,
   "metadata": {},
   "outputs": [],
   "source": [
    "inputSettings = evaluation.input_settings\n",
    "import pandas as pd\n",
    "import numpy as np\n",
    "import seaborn as sns\n",
    "from pathlib import Path\n",
    "import matplotlib.pyplot as plt\n",
    "import seaborn as sns"
   ]
  },
  {
   "cell_type": "code",
   "execution_count": 10,
   "metadata": {},
   "outputs": [
    {
     "name": "stdout",
     "output_type": "stream",
     "text": [
      "outputs/simulated/dataset1/SCNS/rankedEdges.csv  does not exist. Skipping...\n",
      "SCODE\n"
     ]
    },
    {
     "name": "stderr",
     "output_type": "stream",
     "text": [
      "/home/adyprat/anaconda3/lib/python3.7/site-packages/scipy/stats/stats.py:1713: FutureWarning: Using a non-tuple sequence for multidimensional indexing is deprecated; use `arr[tuple(seq)]` instead of `arr[seq]`. In the future this will be interpreted as an array index, `arr[np.array(seq)]`, which will result either in an error or a different result.\n",
      "  return np.add.reduce(sorted[indexer] * weights, axis=axis) / sumval\n"
     ]
    },
    {
     "name": "stdout",
     "output_type": "stream",
     "text": [
      "SINCERITIES\n",
      "PIDC\n",
      "GRNVBEM\n",
      "GENIE3\n",
      "GRNBOOST2\n"
     ]
    },
    {
     "data": {
      "text/plain": [
       "<matplotlib.legend.Legend at 0x7fd1783be9b0>"
      ]
     },
     "execution_count": 10,
     "metadata": {},
     "output_type": "execute_result"
    },
    {
     "data": {
      "image/png": "[encoded data removed]",
      "text/plain": [
       "<Figure size 432x288 with 1 Axes>"
      ]
     },
     "metadata": {
      "needs_background": "light"
     },
     "output_type": "display_data"
    }
   ],
   "source": [
    "# Read file for trueEdges\n",
    "trueEdgesFile = pd.read_csv(str(inputSettings.datadir)+'/'+ dataDict['name'] +\n",
    "                            '/' +'reference_TFTF_network.txt',\n",
    "                            sep = '\\t', header = 0, index_col = None)\n",
    "\n",
    "\n",
    "\n",
    "# Initialize data dictionaries\n",
    "precisionDict = {}\n",
    "recallDict = {}\n",
    "FPRDict = {}\n",
    "AUPRC = {}\n",
    "\n",
    "outDir = \"outputs/\"+str(inputSettings.datadir).split(\"inputs/\")[1]+ '/' +dataDict['name']\n",
    "for algo in inputSettings.algorithms:\n",
    "    tp = 0\n",
    "    fp = 0\n",
    "    total = 0 # total predictions made\n",
    "    totalTrue = trueEdgesFile.shape[0] # Condition Positives\n",
    "    \n",
    "    # check if the output rankedEdges file exists\n",
    "    if Path(outDir + '/' +algo[0]+'/rankedEdges.csv').exists():\n",
    "        precisionDict[algo[0]] = [] # Initialize Precsion\n",
    "        recallDict[algo[0]] = [] # Initialize Recall\n",
    "        FPRDict[algo[0]] = [] # Initialize FPR\n",
    "        predEdgesFile = pd.read_csv(outDir + '/' +algo[0]+'/rankedEdges.csv', \\\n",
    "                                    sep = '\\t', header =  0, index_col = None)\n",
    "        pOld = 0\n",
    "        rOld = 0\n",
    "        AUPRC[algo[0]] = 0 # Initialize AUPRC\n",
    "        for idx, row in predEdgesFile.iterrows():\n",
    "            if trueEdgesFile.loc[(trueEdgesFile['Gene1'] == row['Gene1']) & \\\n",
    "                                 (trueEdgesFile['Gene2'] == row['Gene2'])].shape[0] > 0:\n",
    "                tp += 1\n",
    "            else:\n",
    "                fp += 1\n",
    "            total += 1\n",
    "\n",
    "            pNew = float(tp)/float(total)\n",
    "            rNew = float(tp)/float(totalTrue)\n",
    "\n",
    "            precisionDict[algo[0]].append(pNew)\n",
    "            recallDict[algo[0]].append(rNew)\n",
    "\n",
    "            AUPRC[algo[0]] += ((rNew - rOld)*(pOld + pNew)/2) # compute AUPRC\n",
    "\n",
    "            pOld = pNew\n",
    "            rOld = rNew\n",
    "            FPRDict[algo[0]].append(float(fp)) # List of FP values\n",
    "\n",
    "        FPRDict[algo[0]] = [val/float(total - totalTrue) for val in FPRDict[algo[0]]] # update FPR\n",
    "\n",
    "    else:\n",
    "        print(outDir + '/' +algo[0]+'/rankedEdges.csv', \\\n",
    "              ' does not exist. Skipping...')\n",
    "\n",
    "## Make PR curves\n",
    "legendList = []\n",
    "for key in precisionDict.keys():\n",
    "    print(key)\n",
    "    sns.lineplot(recallDict[key],precisionDict[key])\n",
    "    legendList.append(str(key) + ' (AUPRC = ' + str(\"%.2f\" % (AUPRC[key]))+')')\n",
    "\n",
    "plt.xlim(0,1)    \n",
    "plt.ylim(0,1)\n",
    "plt.xlabel('Recall')\n",
    "plt.ylabel('Precision')\n",
    "plt.legend(legendList) "
   ]
  },
  {
   "cell_type": "code",
   "execution_count": 19,
   "metadata": {},
   "outputs": [
    {
     "data": {
      "text/plain": [
       "1593"
      ]
     },
     "execution_count": 19,
     "metadata": {},
     "output_type": "execute_result"
    }
   ],
   "source": [
    "fp"
   ]
  },
  {
   "cell_type": "code",
   "execution_count": 8,
   "metadata": {},
   "outputs": [
    {
     "data": {
      "text/html": [
       "<div>\n",
       "<style scoped>\n",
       "    .dataframe tbody tr th:only-of-type {\n",
       "        vertical-align: middle;\n",
       "    }\n",
       "\n",
       "    .dataframe tbody tr th {\n",
       "        vertical-align: top;\n",
       "    }\n",
       "\n",
       "    .dataframe thead th {\n",
       "        text-align: right;\n",
       "    }\n",
       "</style>\n",
       "<table border=\"1\" class=\"dataframe\">\n",
       "  <thead>\n",
       "    <tr style=\"text-align: right;\">\n",
       "      <th></th>\n",
       "      <th>c33</th>\n",
       "      <th>c53</th>\n",
       "      <th>c3</th>\n",
       "      <th>c47</th>\n",
       "      <th>c67</th>\n",
       "      <th>c30</th>\n",
       "      <th>c64</th>\n",
       "      <th>c49</th>\n",
       "      <th>c20</th>\n",
       "      <th>c18</th>\n",
       "      <th>...</th>\n",
       "      <th>c318</th>\n",
       "      <th>c319</th>\n",
       "      <th>c315</th>\n",
       "      <th>c306</th>\n",
       "      <th>c328</th>\n",
       "      <th>c301</th>\n",
       "      <th>c343</th>\n",
       "      <th>c346</th>\n",
       "      <th>c307</th>\n",
       "      <th>c337</th>\n",
       "    </tr>\n",
       "  </thead>\n",
       "  <tbody>\n",
       "    <tr>\n",
       "      <th>SOX2</th>\n",
       "      <td>1.207739</td>\n",
       "      <td>1.131859</td>\n",
       "      <td>1.273929</td>\n",
       "      <td>1.228341</td>\n",
       "      <td>1.207457</td>\n",
       "      <td>1.347742</td>\n",
       "      <td>1.294244</td>\n",
       "      <td>1.270301</td>\n",
       "      <td>0.673372</td>\n",
       "      <td>1.167187</td>\n",
       "      <td>...</td>\n",
       "      <td>0.000000</td>\n",
       "      <td>0.000000</td>\n",
       "      <td>0.022750</td>\n",
       "      <td>0.012577</td>\n",
       "      <td>0.000000</td>\n",
       "      <td>0.000000</td>\n",
       "      <td>0.000000</td>\n",
       "      <td>0.000000</td>\n",
       "      <td>0.000000</td>\n",
       "      <td>0.041987</td>\n",
       "    </tr>\n",
       "    <tr>\n",
       "      <th>ESRRB</th>\n",
       "      <td>1.309502</td>\n",
       "      <td>1.382944</td>\n",
       "      <td>1.167757</td>\n",
       "      <td>1.278879</td>\n",
       "      <td>1.362136</td>\n",
       "      <td>1.461041</td>\n",
       "      <td>1.200626</td>\n",
       "      <td>1.466985</td>\n",
       "      <td>1.365031</td>\n",
       "      <td>1.262795</td>\n",
       "      <td>...</td>\n",
       "      <td>0.000000</td>\n",
       "      <td>0.000000</td>\n",
       "      <td>0.000000</td>\n",
       "      <td>0.000000</td>\n",
       "      <td>0.000000</td>\n",
       "      <td>0.000000</td>\n",
       "      <td>0.000000</td>\n",
       "      <td>0.000000</td>\n",
       "      <td>0.000000</td>\n",
       "      <td>0.000000</td>\n",
       "    </tr>\n",
       "    <tr>\n",
       "      <th>UTF1</th>\n",
       "      <td>0.887411</td>\n",
       "      <td>1.067413</td>\n",
       "      <td>1.554748</td>\n",
       "      <td>1.571531</td>\n",
       "      <td>1.322056</td>\n",
       "      <td>1.638627</td>\n",
       "      <td>1.428033</td>\n",
       "      <td>1.239905</td>\n",
       "      <td>1.686085</td>\n",
       "      <td>1.522945</td>\n",
       "      <td>...</td>\n",
       "      <td>0.000000</td>\n",
       "      <td>0.064483</td>\n",
       "      <td>0.000000</td>\n",
       "      <td>0.000000</td>\n",
       "      <td>0.000000</td>\n",
       "      <td>0.000000</td>\n",
       "      <td>0.000000</td>\n",
       "      <td>0.000000</td>\n",
       "      <td>0.000000</td>\n",
       "      <td>0.338938</td>\n",
       "    </tr>\n",
       "    <tr>\n",
       "      <th>EPAS1</th>\n",
       "      <td>0.078518</td>\n",
       "      <td>0.374048</td>\n",
       "      <td>0.490467</td>\n",
       "      <td>0.673594</td>\n",
       "      <td>0.558087</td>\n",
       "      <td>0.528945</td>\n",
       "      <td>0.477813</td>\n",
       "      <td>0.286092</td>\n",
       "      <td>0.240735</td>\n",
       "      <td>0.618417</td>\n",
       "      <td>...</td>\n",
       "      <td>1.412113</td>\n",
       "      <td>1.457596</td>\n",
       "      <td>1.317854</td>\n",
       "      <td>1.340016</td>\n",
       "      <td>1.362222</td>\n",
       "      <td>1.698906</td>\n",
       "      <td>1.596973</td>\n",
       "      <td>1.522050</td>\n",
       "      <td>1.471538</td>\n",
       "      <td>1.709350</td>\n",
       "    </tr>\n",
       "    <tr>\n",
       "      <th>FOXQ1</th>\n",
       "      <td>0.000000</td>\n",
       "      <td>0.000000</td>\n",
       "      <td>0.000000</td>\n",
       "      <td>0.000000</td>\n",
       "      <td>0.047418</td>\n",
       "      <td>0.000000</td>\n",
       "      <td>0.000000</td>\n",
       "      <td>0.000000</td>\n",
       "      <td>0.000000</td>\n",
       "      <td>0.000000</td>\n",
       "      <td>...</td>\n",
       "      <td>0.925106</td>\n",
       "      <td>0.939707</td>\n",
       "      <td>1.277891</td>\n",
       "      <td>0.870892</td>\n",
       "      <td>1.144854</td>\n",
       "      <td>0.966274</td>\n",
       "      <td>0.495990</td>\n",
       "      <td>0.899653</td>\n",
       "      <td>1.077230</td>\n",
       "      <td>0.913330</td>\n",
       "    </tr>\n",
       "  </tbody>\n",
       "</table>\n",
       "<p>5 rows × 356 columns</p>\n",
       "</div>"
      ],
      "text/plain": [
       "            c33       c53        c3       c47       c67       c30       c64  \\\n",
       "SOX2   1.207739  1.131859  1.273929  1.228341  1.207457  1.347742  1.294244   \n",
       "ESRRB  1.309502  1.382944  1.167757  1.278879  1.362136  1.461041  1.200626   \n",
       "UTF1   0.887411  1.067413  1.554748  1.571531  1.322056  1.638627  1.428033   \n",
       "EPAS1  0.078518  0.374048  0.490467  0.673594  0.558087  0.528945  0.477813   \n",
       "FOXQ1  0.000000  0.000000  0.000000  0.000000  0.047418  0.000000  0.000000   \n",
       "\n",
       "            c49       c20       c18    ...         c318      c319      c315  \\\n",
       "SOX2   1.270301  0.673372  1.167187    ...     0.000000  0.000000  0.022750   \n",
       "ESRRB  1.466985  1.365031  1.262795    ...     0.000000  0.000000  0.000000   \n",
       "UTF1   1.239905  1.686085  1.522945    ...     0.000000  0.064483  0.000000   \n",
       "EPAS1  0.286092  0.240735  0.618417    ...     1.412113  1.457596  1.317854   \n",
       "FOXQ1  0.000000  0.000000  0.000000    ...     0.925106  0.939707  1.277891   \n",
       "\n",
       "           c306      c328      c301      c343      c346      c307      c337  \n",
       "SOX2   0.012577  0.000000  0.000000  0.000000  0.000000  0.000000  0.041987  \n",
       "ESRRB  0.000000  0.000000  0.000000  0.000000  0.000000  0.000000  0.000000  \n",
       "UTF1   0.000000  0.000000  0.000000  0.000000  0.000000  0.000000  0.338938  \n",
       "EPAS1  1.340016  1.362222  1.698906  1.596973  1.522050  1.471538  1.709350  \n",
       "FOXQ1  0.870892  1.144854  0.966274  0.495990  0.899653  1.077230  0.913330  \n",
       "\n",
       "[5 rows x 356 columns]"
      ]
     },
     "execution_count": 8,
     "metadata": {},
     "output_type": "execute_result"
    }
   ],
   "source": [
    "import pandas as pd\n",
    "DF = pd.read_csv('inputs/simulated/dataset1/ExpressionData.csv', header= 0, index_col = 0)\n",
    "pDF = pd.read_csv('inputs/simulated/dataset1/PseudoTime.csv', header= 0, index_col = 0)\n",
    "DF[pDF.sort_values(['PseudoTime']).index].head()"
   ]
  },
  {
   "cell_type": "code",
   "execution_count": 26,
   "metadata": {},
   "outputs": [],
   "source": [
    "NetDF = pd.read_csv('inputs/simulated/dataset1/reference_TFTF_network.txt', sep = '\\t', header= 0, index_col = None)\n",
    "DF.loc[pd.unique(NetDF[['Gene1','Gene2']].values.ravel('K'))].to_csv('inputs/simulated/dataset1/ExpressionData.csv',\\\n",
    "                                                                     sep = ',', header  = True, index = True)"
   ]
  },
  {
   "cell_type": "code",
   "execution_count": 27,
   "metadata": {},
   "outputs": [],
   "source": [
    "DF = pd.read_csv('inputs/simulated/dataset1/ExpressionData.csv', header= 0, index_col = 0)\n",
    "DF.T.to_csv('/home/adyprat/ModelEval/Algorithms/GENIE3/temp.tsv', sep = '\\t')"
   ]
  },
  {
   "cell_type": "code",
   "execution_count": null,
   "metadata": {},
   "outputs": [],
   "source": []
  }
 ],
 "metadata": {
  "kernelspec": {
   "display_name": "Python 3",
   "language": "python",
   "name": "python3"
  },
  "language_info": {
   "codemirror_mode": {
    "name": "ipython",
    "version": 3
   },
   "file_extension": ".py",
   "mimetype": "text/x-python",
   "name": "python",
   "nbconvert_exporter": "python",
   "pygments_lexer": "ipython3",
   "version": "3.7.1"
  }
 },
 "nbformat": 4,
 "nbformat_minor": 2
}
